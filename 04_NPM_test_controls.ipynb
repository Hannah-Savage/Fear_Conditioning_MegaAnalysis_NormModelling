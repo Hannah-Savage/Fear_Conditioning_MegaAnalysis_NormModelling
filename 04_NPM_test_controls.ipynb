{
 "cells": [
  {
   "cell_type": "code",
   "execution_count": 1,
   "id": "c0b3c1b4-c535-4923-b503-1d745830e265",
   "metadata": {},
   "outputs": [
    {
     "name": "stderr",
     "output_type": "stream",
     "text": [
      "/home/preclineu/hansav/.conda/envs/py38/lib/python3.8/site-packages/tqdm/auto.py:22: TqdmWarning: IProgress not found. Please update jupyter and ipywidgets. See https://ipywidgets.readthedocs.io/en/stable/user_install.html\n",
      "  from .autonotebook import tqdm as notebook_tqdm\n",
      "/home/preclineu/hansav/.conda/envs/py38/lib/python3.8/site-packages/outdated/utils.py:14: OutdatedPackageWarning: The package outdated is out of date. Your version is 0.2.1, the latest is 0.2.2.\n",
      "Set the environment variable OUTDATED_IGNORE=1 to disable these warnings.\n",
      "  return warn(\n",
      "/home/preclineu/hansav/.conda/envs/py38/lib/python3.8/site-packages/outdated/utils.py:14: OutdatedPackageWarning: The package pingouin is out of date. Your version is 0.5.1, the latest is 0.5.4.\n",
      "Set the environment variable OUTDATED_IGNORE=1 to disable these warnings.\n",
      "  return warn(\n"
     ]
    }
   ],
   "source": [
    "import os\n",
    "import pickle\n",
    "import pandas as pd\n",
    "import numpy as np\n",
    "import nibabel as nib\n",
    "import pcntoolkit as ptk \n",
    "from pcntoolkit.dataio.fileio import load as ptkload\n",
    "from pcntoolkit.dataio.fileio import save as ptksave\n",
    "from pcntoolkit.dataio.fileio import save_nifti, load_nifti\n",
    "from pcntoolkit.normative import predict, evaluate\n",
    "from pcntoolkit.util.utils import compute_MSLL, create_design_matrix, calibration_descriptives\n",
    "\n",
    "from scipy import stats\n",
    "\n",
    "from matplotlib import pyplot as plt\n",
    "import seaborn as sns\n",
    "import pingouin as pg\n",
    "\n",
    "#%% SET GLOBALS\n",
    "# globals\n",
    "root_dir = '/project_cephfs/3022017.06/ENIGMA_ANX/'\n",
    "\n",
    "###  CHANGE DEPENDING ON Z-STAT OR SCALED EFFECT  ###\n",
    "proc_dir = os.path.join(root_dir,'Z_stat/')\n",
    "#proc_dir = os.path.join(root_dir,'Scaled_effect/')\n",
    "\n",
    "\n",
    "data_dir = os.path.join(proc_dir,'data/')\n",
    "w_dir = os.path.join(proc_dir,'vox/')\n",
    "mask_nii = ('/opt/fmriprep/templateflow/tpl-MNI152NLin2009cAsym/tpl-MNI152NLin2009cAsym_res-02_desc-brain_mask.nii.gz')\n",
    "ex_nii = os.path.join(data_dir, 'ENIGMA_FC_tr_1.nii.gz')\n"
   ]
  },
  {
   "cell_type": "code",
   "execution_count": 2,
   "id": "07f8d264-d8c3-45e6-9e2a-e62f70b42f7b",
   "metadata": {},
   "outputs": [
    {
     "name": "stdout",
     "output_type": "stream",
     "text": [
      "fslmaths /project_cephfs/3022017.06/ENIGMA_ANX/Z_stat/vox/Z_ref.nii.gz -thr 2.6 /project_cephfs/3022017.06/ENIGMA_ANX/Z_stat/vox/Z_ref_pos2pt6.nii.gz\n",
      "fslmaths /project_cephfs/3022017.06/ENIGMA_ANX/Z_stat/vox/Z_ref.nii.gz -mul -1 -thr 2.6 /project_cephfs/3022017.06/ENIGMA_ANX/Z_stat/vox/Z_ref_neg2pt6.nii.gz\n",
      "THRESHOLD THE NII FILES USING FSLMATHS DONE\n"
     ]
    }
   ],
   "source": [
    "#%% THRESHOLD THE NII FILES USING FSLMATHS\n",
    "in_filename = (w_dir +'Z_ref.nii.gz')\n",
    "#print(filename)\n",
    "out_filename_pos = (w_dir +'Z_ref_pos2pt6.nii.gz')\n",
    "out_filename_neg = (w_dir +'Z_ref_neg2pt6.nii.gz')\n",
    "#print(out_filename_pos, out_filename_neg)\n",
    "\n",
    "command = ('fslmaths ' +in_filename +' -thr 2.6 ' +out_filename_pos)\n",
    "print(command)\n",
    "os.system(command)\n",
    "!command\n",
    "\n",
    "command = ('fslmaths ' +in_filename +' -mul -1 -thr 2.6 ' +out_filename_neg)\n",
    "print(command)\n",
    "os.system(command)\n",
    "!command\n",
    "\n",
    "print('THRESHOLD THE NII FILES USING FSLMATHS DONE')"
   ]
  },
  {
   "cell_type": "code",
   "execution_count": 3,
   "id": "685da2f2-6fcf-4f5f-a40f-b745b4a70e4e",
   "metadata": {},
   "outputs": [
    {
     "name": "stdout",
     "output_type": "stream",
     "text": [
      "fslmaths /project_cephfs/3022017.06/ENIGMA_ANX/Z_stat/vox/Z_ref_pos2pt6.nii.gz -bin  /project_cephfs/3022017.06/ENIGMA_ANX/Z_stat/vox/Z_ref_pos2pt6_bin.nii.gz\n",
      "fslmaths /project_cephfs/3022017.06/ENIGMA_ANX/Z_stat/vox/Z_ref_neg2pt6.nii.gz -bin  /project_cephfs/3022017.06/ENIGMA_ANX/Z_stat/vox/Z_ref_neg2pt6_bin.nii.gz\n",
      "BINARISE THE NII FILES USING FSLMATHS DONE\n"
     ]
    }
   ],
   "source": [
    "#%% BINARISE THE NII FILES USING FSLMATHS\n",
    "in_filename_pos = (w_dir +'Z_ref_pos2pt6.nii.gz')\n",
    "in_filename_neg = (w_dir +'Z_ref_neg2pt6.nii.gz')\n",
    "#print(filename)\n",
    "out_filename_pos = (w_dir +'Z_ref_pos2pt6_bin.nii.gz')\n",
    "out_filename_neg = (w_dir +'Z_ref_neg2pt6_bin.nii.gz')\n",
    "#print(out_filename_pos, out_filename_neg)\n",
    "\n",
    "command = ('fslmaths ' +in_filename_pos +' -bin  ' +out_filename_pos)\n",
    "print(command)\n",
    "os.system(command)\n",
    "!command\n",
    "\n",
    "command = ('fslmaths ' +in_filename_neg +' -bin  ' +out_filename_neg)\n",
    "print(command)\n",
    "os.system(command)\n",
    "!command\n",
    "\n",
    "print('BINARISE THE NII FILES USING FSLMATHS DONE')"
   ]
  },
  {
   "cell_type": "code",
   "execution_count": 4,
   "id": "23ddf9e7-690c-4a34-89ae-12bd6f32b734",
   "metadata": {},
   "outputs": [
    {
     "name": "stdout",
     "output_type": "stream",
     "text": [
      "SUM THE NUMBER OF VOXELS DONE\n"
     ]
    }
   ],
   "source": [
    "#%% SUM THE NUMBER OF VOXELS\n",
    "in_filename_pos = (w_dir +'Z_ref_pos2pt6_bin.nii.gz')\n",
    "in_filename_neg = (w_dir +'Z_ref_neg2pt6_bin.nii.gz')\n",
    "thresh_bin_nii_pos = load_nifti(in_filename_pos, mask=mask_nii)\n",
    "thresh_bin_nii_neg = load_nifti(in_filename_neg, mask=mask_nii)\n",
    "\n",
    "out_filename_pos = (w_dir +'Z_ref_count_pos.nii.gz')\n",
    "out_filename_neg = (w_dir +'Z_ref_count_neg.nii.gz')\n",
    "#print(out_filename_pos, out_filename_neg)\n",
    "   \n",
    "#Sum along the 2nd dimension(4D = volumes = participants) of the Positive thresholded, binarised file\n",
    "sum_site_pos = np.sum(thresh_bin_nii_pos,axis=1)\n",
    "#Save as nii\n",
    "save_nifti(sum_site_pos,out_filename_pos, examplenii=mask_nii, mask=mask_nii, dtype='float32')\n",
    "\n",
    "#Sum along the 2nd dimension(4D = volumes = participants) of the Negative thresholded, binarised file\n",
    "sum_site_neg = np.sum(thresh_bin_nii_neg,axis=1)\n",
    "#Save as nii\n",
    "save_nifti(sum_site_neg,out_filename_neg, examplenii=mask_nii, mask=mask_nii, dtype='float32')\n",
    "\n",
    "print('SUM THE NUMBER OF VOXELS DONE')"
   ]
  },
  {
   "cell_type": "code",
   "execution_count": null,
   "id": "ef3d1732-8c78-443e-944e-1bac38bba120",
   "metadata": {},
   "outputs": [],
   "source": []
  }
 ],
 "metadata": {
  "kernelspec": {
   "display_name": "Python 3 (ipykernel)",
   "language": "python",
   "name": "python3"
  },
  "language_info": {
   "codemirror_mode": {
    "name": "ipython",
    "version": 3
   },
   "file_extension": ".py",
   "mimetype": "text/x-python",
   "name": "python",
   "nbconvert_exporter": "python",
   "pygments_lexer": "ipython3",
   "version": "3.8.12"
  }
 },
 "nbformat": 4,
 "nbformat_minor": 5
}
