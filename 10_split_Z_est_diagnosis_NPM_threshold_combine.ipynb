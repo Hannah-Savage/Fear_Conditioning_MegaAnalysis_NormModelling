{
 "cells": [
  {
   "cell_type": "code",
   "execution_count": 1,
   "id": "3ed3ee0b-7c39-483c-a2f9-7752d02987b7",
   "metadata": {},
   "outputs": [
    {
     "name": "stderr",
     "output_type": "stream",
     "text": [
      "/home/preclineu/hansav/.conda/envs/py38/lib/python3.8/site-packages/tqdm/auto.py:22: TqdmWarning: IProgress not found. Please update jupyter and ipywidgets. See https://ipywidgets.readthedocs.io/en/stable/user_install.html\n",
      "  from .autonotebook import tqdm as notebook_tqdm\n",
      "/home/preclineu/hansav/.conda/envs/py38/lib/python3.8/site-packages/outdated/utils.py:14: OutdatedPackageWarning: The package outdated is out of date. Your version is 0.2.1, the latest is 0.2.2.\n",
      "Set the environment variable OUTDATED_IGNORE=1 to disable these warnings.\n",
      "  return warn(\n"
     ]
    }
   ],
   "source": [
    "import os\n",
    "import pickle\n",
    "import pandas as pd\n",
    "import numpy as np\n",
    "import nibabel as nib\n",
    "import pcntoolkit as ptk \n",
    "from pcntoolkit.dataio.fileio import load as ptkload\n",
    "from pcntoolkit.dataio.fileio import save as ptksave\n",
    "from pcntoolkit.dataio.fileio import save_nifti, load_nifti\n",
    "from pcntoolkit.normative import predict, evaluate\n",
    "from pcntoolkit.util.utils import compute_MSLL, create_design_matrix, calibration_descriptives\n",
    "\n",
    "from scipy import stats\n",
    "\n",
    "from matplotlib import pyplot as plt\n",
    "import seaborn as sns\n",
    "import pingouin as pg\n",
    "\n",
    "#%% LOAD IN DATA AND MASK BY AVAILABLE PARTICIPANTS\n",
    "# Data IO and generation\n",
    "\n",
    "# globals\n",
    "root_dir = '/project_cephfs/3022017.06/ENIGMA_ANX/'\n",
    "proc_dir = os.path.join(root_dir,'Z_stat/')\n",
    "data_dir = os.path.join(proc_dir,'data/')\n",
    "vox_dir = os.path.join(proc_dir,'vox/')\n",
    "w_dir = os.path.join(vox_dir,'NPM_comparisons/Diagnoses/')\n",
    "mask_nii = ('/opt/fmriprep/templateflow/tpl-MNI152NLin2009cAsym/tpl-MNI152NLin2009cAsym_res-02_desc-brain_mask.nii.gz')\n",
    "ex_nii = os.path.join(data_dir, 'ENIGMA_FC_tr_1.nii.gz')"
   ]
  },
  {
   "cell_type": "code",
   "execution_count": 2,
   "id": "9dab9ddf-793c-4a1f-a43b-4fcffd701b75",
   "metadata": {},
   "outputs": [],
   "source": [
    "# Load in the Z_est file\n",
    "Z_est_clinical = ptkload(os.path.join(vox_dir,'Z_predcl.pkl'), mask=mask_nii)"
   ]
  },
  {
   "cell_type": "code",
   "execution_count": 3,
   "id": "692e2ad2-ba0d-4473-b686-8e839422eb15",
   "metadata": {},
   "outputs": [],
   "source": [
    "#Load in the diagnosis information\n",
    "metadata_cl_diagnosis = pd.read_csv('/project_cephfs/3022017.06/ENIGMA_ANX/Z_stat/data/clinical_te.csv')\n",
    "Diagnoses_info = pd.read_csv('/project_cephfs/3022017.06/ENIGMA_ANX/Z_stat/data/all_test_validation.csv', usecols = ['SubjectID_ENIGMA', 'Principal_diagnosis_current'] )\n",
    "merged_clinical_test_data = pd.merge(metadata_cl_diagnosis, Diagnoses_info, on='SubjectID_ENIGMA', how='left')\n",
    "merged_clinical_test_data['Principal_diagnosis_current'] = merged_clinical_test_data['Principal_diagnosis_current'].replace({np.nan: 'NA', 'nan': 'NA'})\n",
    "\n"
   ]
  },
  {
   "cell_type": "code",
   "execution_count": 4,
   "id": "babb03dd-8eb4-48e6-99a1-2e5dac2ac985",
   "metadata": {},
   "outputs": [
    {
     "name": "stdout",
     "output_type": "stream",
     "text": [
      "581\n",
      "581\n",
      "581\n"
     ]
    }
   ],
   "source": [
    "print(len(Z_est_clinical))\n",
    "print(len(metadata_cl_diagnosis))\n",
    "print(len(merged_clinical_test_data))"
   ]
  },
  {
   "cell_type": "code",
   "execution_count": 5,
   "id": "d7771101-b8be-49b2-8d8f-8f4602b877f4",
   "metadata": {},
   "outputs": [
    {
     "name": "stdout",
     "output_type": "stream",
     "text": [
      "581\n",
      "581\n",
      "581\n"
     ]
    }
   ],
   "source": [
    "#split the Z_est clinical into the control and patients  ***and remove other and schizophrenia as diagnosis are not of interest***\n",
    "mask_Diganosis = merged_clinical_test_data['Healthy_or_patient'].eq(1)\n",
    "mask_exclude_diagnosis = ~merged_clinical_test_data['Principal_diagnosis_current'].isin(['others', 'schizophrenia'])\n",
    " #remove other and schizophrenia as not primary affective conditions \n",
    "combined_Diagnosis_mask = mask_Diganosis & mask_exclude_diagnosis\n",
    "\n",
    "print(len(mask_Diganosis))\n",
    "print(len(mask_exclude_diagnosis))\n",
    "print(len(combined_Diagnosis_mask))\n",
    "\n",
    "\n",
    "Diagnoses_info = merged_clinical_test_data[combined_Diagnosis_mask]\n",
    "Affective_sample_deviations = Z_est_clinical[combined_Diagnosis_mask]"
   ]
  },
  {
   "cell_type": "code",
   "execution_count": 6,
   "id": "e0471d60-1b62-4c94-ac21-49934c077090",
   "metadata": {},
   "outputs": [
    {
     "name": "stdout",
     "output_type": "stream",
     "text": [
      "222\n",
      "222\n",
      "Diagnoses that will be analysed:  ['gad', 'major depressive disorder', 'ocd', 'panic disorder', 'ptsd', 'sad', 'specific phobia']\n"
     ]
    }
   ],
   "source": [
    "print(len(Affective_sample_deviations))\n",
    "print(len(Diagnoses_info))\n",
    "Primary_Diagnoses = np.unique(merged_clinical_test_data['Principal_diagnosis_current'])\n",
    "Primary_Diagnoses = [diagnosis for diagnosis in Primary_Diagnoses if diagnosis not in ['NA', 'others', 'schizophrenia']]\n",
    "print('Diagnoses that will be analysed: ', Primary_Diagnoses)"
   ]
  },
  {
   "cell_type": "code",
   "execution_count": 7,
   "id": "33835b7d-4bfe-4eab-8104-b9a536287995",
   "metadata": {},
   "outputs": [
    {
     "name": "stdout",
     "output_type": "stream",
     "text": [
      "48 gad\n",
      "/project_cephfs/3022017.06/ENIGMA_ANX/Z_stat/vox/NPM_comparisons/Diagnoses/Z_est_gad.nii.gz\n",
      "11 major depressive disorder\n",
      "/project_cephfs/3022017.06/ENIGMA_ANX/Z_stat/vox/NPM_comparisons/Diagnoses/Z_est_major_depressive_disorder.nii.gz\n",
      "68 ocd\n",
      "/project_cephfs/3022017.06/ENIGMA_ANX/Z_stat/vox/NPM_comparisons/Diagnoses/Z_est_ocd.nii.gz\n",
      "2 panic disorder\n",
      "/project_cephfs/3022017.06/ENIGMA_ANX/Z_stat/vox/NPM_comparisons/Diagnoses/Z_est_panic_disorder.nii.gz\n",
      "55 ptsd\n",
      "/project_cephfs/3022017.06/ENIGMA_ANX/Z_stat/vox/NPM_comparisons/Diagnoses/Z_est_ptsd.nii.gz\n",
      "31 sad\n",
      "/project_cephfs/3022017.06/ENIGMA_ANX/Z_stat/vox/NPM_comparisons/Diagnoses/Z_est_sad.nii.gz\n",
      "7 specific phobia\n",
      "/project_cephfs/3022017.06/ENIGMA_ANX/Z_stat/vox/NPM_comparisons/Diagnoses/Z_est_specific_phobia.nii.gz\n"
     ]
    }
   ],
   "source": [
    "for d in Primary_Diagnoses:\n",
    "    mask_Diganosis = Diagnoses_info['Principal_diagnosis_current'].eq(d)\n",
    "    print(sum(mask_Diganosis == True), d)\n",
    "    Z_est_Diganosis = Affective_sample_deviations[mask_Diganosis]\n",
    "    Z_est_Diganosis_trans = np.transpose(Z_est_Diganosis)\n",
    "    filename_part = (w_dir +'Z_est_'+ d.replace(' ', '_') +'.nii.gz')\n",
    "    print(filename_part)\n",
    "    save_nifti(Z_est_Diganosis_trans, filename_part, examplenii=ex_nii, mask=mask_nii, dtype='float32')"
   ]
  },
  {
   "cell_type": "code",
   "execution_count": 8,
   "id": "b60442b8-0a83-43ee-b6aa-189845024475",
   "metadata": {},
   "outputs": [
    {
     "name": "stdout",
     "output_type": "stream",
     "text": [
      "fslmaths /project_cephfs/3022017.06/ENIGMA_ANX/Z_stat/vox/NPM_comparisons/Diagnoses/Z_est_gad.nii.gz -thr 2.6 /project_cephfs/3022017.06/ENIGMA_ANX/Z_stat/vox/NPM_comparisons/Diagnoses/Z_est_gad_pos2pt6.nii.gz\n",
      "fslmaths /project_cephfs/3022017.06/ENIGMA_ANX/Z_stat/vox/NPM_comparisons/Diagnoses/Z_est_gad.nii.gz -mul -1 -thr 2.6 /project_cephfs/3022017.06/ENIGMA_ANX/Z_stat/vox/NPM_comparisons/Diagnoses/Z_est_gad_neg2pt6.nii.gz\n",
      "fslmaths /project_cephfs/3022017.06/ENIGMA_ANX/Z_stat/vox/NPM_comparisons/Diagnoses/Z_est_major_depressive_disorder.nii.gz -thr 2.6 /project_cephfs/3022017.06/ENIGMA_ANX/Z_stat/vox/NPM_comparisons/Diagnoses/Z_est_major_depressive_disorder_pos2pt6.nii.gz\n",
      "fslmaths /project_cephfs/3022017.06/ENIGMA_ANX/Z_stat/vox/NPM_comparisons/Diagnoses/Z_est_major_depressive_disorder.nii.gz -mul -1 -thr 2.6 /project_cephfs/3022017.06/ENIGMA_ANX/Z_stat/vox/NPM_comparisons/Diagnoses/Z_est_major_depressive_disorder_neg2pt6.nii.gz\n",
      "fslmaths /project_cephfs/3022017.06/ENIGMA_ANX/Z_stat/vox/NPM_comparisons/Diagnoses/Z_est_ocd.nii.gz -thr 2.6 /project_cephfs/3022017.06/ENIGMA_ANX/Z_stat/vox/NPM_comparisons/Diagnoses/Z_est_ocd_pos2pt6.nii.gz\n",
      "fslmaths /project_cephfs/3022017.06/ENIGMA_ANX/Z_stat/vox/NPM_comparisons/Diagnoses/Z_est_ocd.nii.gz -mul -1 -thr 2.6 /project_cephfs/3022017.06/ENIGMA_ANX/Z_stat/vox/NPM_comparisons/Diagnoses/Z_est_ocd_neg2pt6.nii.gz\n",
      "fslmaths /project_cephfs/3022017.06/ENIGMA_ANX/Z_stat/vox/NPM_comparisons/Diagnoses/Z_est_panic_disorder.nii.gz -thr 2.6 /project_cephfs/3022017.06/ENIGMA_ANX/Z_stat/vox/NPM_comparisons/Diagnoses/Z_est_panic_disorder_pos2pt6.nii.gz\n",
      "fslmaths /project_cephfs/3022017.06/ENIGMA_ANX/Z_stat/vox/NPM_comparisons/Diagnoses/Z_est_panic_disorder.nii.gz -mul -1 -thr 2.6 /project_cephfs/3022017.06/ENIGMA_ANX/Z_stat/vox/NPM_comparisons/Diagnoses/Z_est_panic_disorder_neg2pt6.nii.gz\n",
      "fslmaths /project_cephfs/3022017.06/ENIGMA_ANX/Z_stat/vox/NPM_comparisons/Diagnoses/Z_est_ptsd.nii.gz -thr 2.6 /project_cephfs/3022017.06/ENIGMA_ANX/Z_stat/vox/NPM_comparisons/Diagnoses/Z_est_ptsd_pos2pt6.nii.gz\n",
      "fslmaths /project_cephfs/3022017.06/ENIGMA_ANX/Z_stat/vox/NPM_comparisons/Diagnoses/Z_est_ptsd.nii.gz -mul -1 -thr 2.6 /project_cephfs/3022017.06/ENIGMA_ANX/Z_stat/vox/NPM_comparisons/Diagnoses/Z_est_ptsd_neg2pt6.nii.gz\n",
      "fslmaths /project_cephfs/3022017.06/ENIGMA_ANX/Z_stat/vox/NPM_comparisons/Diagnoses/Z_est_sad.nii.gz -thr 2.6 /project_cephfs/3022017.06/ENIGMA_ANX/Z_stat/vox/NPM_comparisons/Diagnoses/Z_est_sad_pos2pt6.nii.gz\n",
      "fslmaths /project_cephfs/3022017.06/ENIGMA_ANX/Z_stat/vox/NPM_comparisons/Diagnoses/Z_est_sad.nii.gz -mul -1 -thr 2.6 /project_cephfs/3022017.06/ENIGMA_ANX/Z_stat/vox/NPM_comparisons/Diagnoses/Z_est_sad_neg2pt6.nii.gz\n",
      "fslmaths /project_cephfs/3022017.06/ENIGMA_ANX/Z_stat/vox/NPM_comparisons/Diagnoses/Z_est_specific_phobia.nii.gz -thr 2.6 /project_cephfs/3022017.06/ENIGMA_ANX/Z_stat/vox/NPM_comparisons/Diagnoses/Z_est_specific_phobia_pos2pt6.nii.gz\n",
      "fslmaths /project_cephfs/3022017.06/ENIGMA_ANX/Z_stat/vox/NPM_comparisons/Diagnoses/Z_est_specific_phobia.nii.gz -mul -1 -thr 2.6 /project_cephfs/3022017.06/ENIGMA_ANX/Z_stat/vox/NPM_comparisons/Diagnoses/Z_est_specific_phobia_neg2pt6.nii.gz\n"
     ]
    }
   ],
   "source": [
    "# THRESHOLD THE NII FILES USING FSLMATHS\n",
    "for d in Primary_Diagnoses:\n",
    "    in_filename = (w_dir +'Z_est_'+d.replace(' ', '_') +'.nii.gz')\n",
    "    #print(filename)\n",
    "    out_filename_pos = (w_dir +'Z_est_' +d.replace(' ', '_')  +'_pos2pt6.nii.gz')\n",
    "    out_filename_neg = (w_dir +'Z_est_' +d.replace(' ', '_') +'_neg2pt6.nii.gz')\n",
    "    #print(out_filename_pos, out_filename_neg)\n",
    "    \n",
    "    command = ('fslmaths ' +in_filename +' -thr 2.6 ' +out_filename_pos)\n",
    "    print(command)\n",
    "    os.system(command)\n",
    "    !command\n",
    "    \n",
    "    command = ('fslmaths ' +in_filename +' -mul -1 -thr 2.6 ' +out_filename_neg)\n",
    "    print(command)\n",
    "    os.system(command)\n",
    "    !command"
   ]
  },
  {
   "cell_type": "code",
   "execution_count": 9,
   "id": "5579c937-2166-40fa-9c70-c1c9671bf900",
   "metadata": {},
   "outputs": [
    {
     "name": "stdout",
     "output_type": "stream",
     "text": [
      "fslmaths /project_cephfs/3022017.06/ENIGMA_ANX/Z_stat/vox/NPM_comparisons/Diagnoses/Z_est_gad_pos2pt6.nii.gz -bin  /project_cephfs/3022017.06/ENIGMA_ANX/Z_stat/vox/NPM_comparisons/Diagnoses/Z_est_gad_pos2pt6_bin.nii.gz\n",
      "fslmaths /project_cephfs/3022017.06/ENIGMA_ANX/Z_stat/vox/NPM_comparisons/Diagnoses/Z_est_gad_neg2pt6.nii.gz -bin  /project_cephfs/3022017.06/ENIGMA_ANX/Z_stat/vox/NPM_comparisons/Diagnoses/Z_est_gad_neg2pt6_bin.nii.gz\n",
      "fslmaths /project_cephfs/3022017.06/ENIGMA_ANX/Z_stat/vox/NPM_comparisons/Diagnoses/Z_est_major_depressive_disorder_pos2pt6.nii.gz -bin  /project_cephfs/3022017.06/ENIGMA_ANX/Z_stat/vox/NPM_comparisons/Diagnoses/Z_est_major_depressive_disorder_pos2pt6_bin.nii.gz\n",
      "fslmaths /project_cephfs/3022017.06/ENIGMA_ANX/Z_stat/vox/NPM_comparisons/Diagnoses/Z_est_major_depressive_disorder_neg2pt6.nii.gz -bin  /project_cephfs/3022017.06/ENIGMA_ANX/Z_stat/vox/NPM_comparisons/Diagnoses/Z_est_major_depressive_disorder_neg2pt6_bin.nii.gz\n",
      "fslmaths /project_cephfs/3022017.06/ENIGMA_ANX/Z_stat/vox/NPM_comparisons/Diagnoses/Z_est_ocd_pos2pt6.nii.gz -bin  /project_cephfs/3022017.06/ENIGMA_ANX/Z_stat/vox/NPM_comparisons/Diagnoses/Z_est_ocd_pos2pt6_bin.nii.gz\n",
      "fslmaths /project_cephfs/3022017.06/ENIGMA_ANX/Z_stat/vox/NPM_comparisons/Diagnoses/Z_est_ocd_neg2pt6.nii.gz -bin  /project_cephfs/3022017.06/ENIGMA_ANX/Z_stat/vox/NPM_comparisons/Diagnoses/Z_est_ocd_neg2pt6_bin.nii.gz\n",
      "fslmaths /project_cephfs/3022017.06/ENIGMA_ANX/Z_stat/vox/NPM_comparisons/Diagnoses/Z_est_panic_disorder_pos2pt6.nii.gz -bin  /project_cephfs/3022017.06/ENIGMA_ANX/Z_stat/vox/NPM_comparisons/Diagnoses/Z_est_panic_disorder_pos2pt6_bin.nii.gz\n",
      "fslmaths /project_cephfs/3022017.06/ENIGMA_ANX/Z_stat/vox/NPM_comparisons/Diagnoses/Z_est_panic_disorder_neg2pt6.nii.gz -bin  /project_cephfs/3022017.06/ENIGMA_ANX/Z_stat/vox/NPM_comparisons/Diagnoses/Z_est_panic_disorder_neg2pt6_bin.nii.gz\n",
      "fslmaths /project_cephfs/3022017.06/ENIGMA_ANX/Z_stat/vox/NPM_comparisons/Diagnoses/Z_est_ptsd_pos2pt6.nii.gz -bin  /project_cephfs/3022017.06/ENIGMA_ANX/Z_stat/vox/NPM_comparisons/Diagnoses/Z_est_ptsd_pos2pt6_bin.nii.gz\n",
      "fslmaths /project_cephfs/3022017.06/ENIGMA_ANX/Z_stat/vox/NPM_comparisons/Diagnoses/Z_est_ptsd_neg2pt6.nii.gz -bin  /project_cephfs/3022017.06/ENIGMA_ANX/Z_stat/vox/NPM_comparisons/Diagnoses/Z_est_ptsd_neg2pt6_bin.nii.gz\n",
      "fslmaths /project_cephfs/3022017.06/ENIGMA_ANX/Z_stat/vox/NPM_comparisons/Diagnoses/Z_est_sad_pos2pt6.nii.gz -bin  /project_cephfs/3022017.06/ENIGMA_ANX/Z_stat/vox/NPM_comparisons/Diagnoses/Z_est_sad_pos2pt6_bin.nii.gz\n",
      "fslmaths /project_cephfs/3022017.06/ENIGMA_ANX/Z_stat/vox/NPM_comparisons/Diagnoses/Z_est_sad_neg2pt6.nii.gz -bin  /project_cephfs/3022017.06/ENIGMA_ANX/Z_stat/vox/NPM_comparisons/Diagnoses/Z_est_sad_neg2pt6_bin.nii.gz\n",
      "fslmaths /project_cephfs/3022017.06/ENIGMA_ANX/Z_stat/vox/NPM_comparisons/Diagnoses/Z_est_specific_phobia_pos2pt6.nii.gz -bin  /project_cephfs/3022017.06/ENIGMA_ANX/Z_stat/vox/NPM_comparisons/Diagnoses/Z_est_specific_phobia_pos2pt6_bin.nii.gz\n",
      "fslmaths /project_cephfs/3022017.06/ENIGMA_ANX/Z_stat/vox/NPM_comparisons/Diagnoses/Z_est_specific_phobia_neg2pt6.nii.gz -bin  /project_cephfs/3022017.06/ENIGMA_ANX/Z_stat/vox/NPM_comparisons/Diagnoses/Z_est_specific_phobia_neg2pt6_bin.nii.gz\n"
     ]
    }
   ],
   "source": [
    "#BINARISE THE NII FILES USING FSLMATHS\n",
    "for d in Primary_Diagnoses:\n",
    "    in_filename_pos = (w_dir +'Z_est_' +d.replace(' ', '_') +'_pos2pt6.nii.gz')\n",
    "    in_filename_neg = (w_dir +'Z_est_' +d.replace(' ', '_') +'_neg2pt6.nii.gz')\n",
    "    #print(filename)\n",
    "    out_filename_pos = (w_dir +'Z_est_' +d.replace(' ', '_') +'_pos2pt6_bin.nii.gz')\n",
    "    out_filename_neg = (w_dir +'Z_est_' +d.replace(' ', '_') +'_neg2pt6_bin.nii.gz')\n",
    "    #print(out_filename_pos, out_filename_neg)\n",
    "    \n",
    "    command = ('fslmaths ' +in_filename_pos +' -bin  ' +out_filename_pos)\n",
    "    print(command)\n",
    "    os.system(command)\n",
    "    !command\n",
    "    \n",
    "    command = ('fslmaths ' +in_filename_neg +' -bin  ' +out_filename_neg)\n",
    "    print(command)\n",
    "    os.system(command)\n",
    "    !command "
   ]
  },
  {
   "cell_type": "code",
   "execution_count": 10,
   "id": "6ba0e0bb-aff4-471f-bcb7-50f188776bf2",
   "metadata": {},
   "outputs": [],
   "source": [
    "#%%SUM ACROSS PARTICIPANTS\n",
    "for d in Primary_Diagnoses:\n",
    "    in_filename_pos = (w_dir +'Z_est_' +d.replace(' ', '_') +'_pos2pt6_bin.nii.gz')\n",
    "    in_filename_neg = (w_dir +'Z_est_' +d.replace(' ', '_') +'_neg2pt6_bin.nii.gz')\n",
    "    thresh_bin_nii_pos = load_nifti(in_filename_pos, mask=mask_nii)\n",
    "    thresh_bin_nii_neg = load_nifti(in_filename_neg, mask=mask_nii)\n",
    "    \n",
    "    out_filename_pos = (w_dir +'Z_est_' +d.replace(' ', '_') +'_count_pos.nii.gz')\n",
    "    out_filename_neg = (w_dir +'Z_est_' +d.replace(' ', '_') +'_count_neg.nii.gz')\n",
    "    #print(out_filename_pos, out_filename_neg)\n",
    "    \n",
    "    #Sum along the 2nd dimension(4D = volumes = participants) of the Positive thresholded, binarised file\n",
    "    sum_diagnosis_pos = np.sum(thresh_bin_nii_pos,axis=1)\n",
    "    #Save as nii\n",
    "    save_nifti(sum_diagnosis_pos, out_filename_pos, examplenii=ex_nii, mask=mask_nii, dtype='float32')\n",
    "    \n",
    "    #Sum along the 2nd dimension(4D = volumes = participants) of the Negative thresholded, binarised file\n",
    "    sum_diagnosis_neg = np.sum(thresh_bin_nii_neg,axis=1)\n",
    "    #Save as nii\n",
    "    save_nifti(sum_diagnosis_neg,out_filename_neg, examplenii=ex_nii, mask=mask_nii, dtype='float32')\n",
    "    "
   ]
  },
  {
   "cell_type": "code",
   "execution_count": null,
   "id": "b5d0d71a-7bb1-4ced-9edb-4fd5d815ae98",
   "metadata": {},
   "outputs": [],
   "source": []
  }
 ],
 "metadata": {
  "kernelspec": {
   "display_name": "Python 3 (ipykernel)",
   "language": "python",
   "name": "python3"
  },
  "language_info": {
   "codemirror_mode": {
    "name": "ipython",
    "version": 3
   },
   "file_extension": ".py",
   "mimetype": "text/x-python",
   "name": "python",
   "nbconvert_exporter": "python",
   "pygments_lexer": "ipython3",
   "version": "3.8.12"
  }
 },
 "nbformat": 4,
 "nbformat_minor": 5
}
