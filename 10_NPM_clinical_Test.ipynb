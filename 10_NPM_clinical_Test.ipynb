{
 "cells": [
  {
   "cell_type": "code",
   "execution_count": 1,
   "id": "47be738d-6d42-4239-b999-c51c32dba41e",
   "metadata": {},
   "outputs": [
    {
     "name": "stderr",
     "output_type": "stream",
     "text": [
      "/home/preclineu/hansav/.conda/envs/py38/lib/python3.8/site-packages/tqdm/auto.py:22: TqdmWarning: IProgress not found. Please update jupyter and ipywidgets. See https://ipywidgets.readthedocs.io/en/stable/user_install.html\n",
      "  from .autonotebook import tqdm as notebook_tqdm\n",
      "/home/preclineu/hansav/.conda/envs/py38/lib/python3.8/site-packages/outdated/utils.py:14: OutdatedPackageWarning: The package outdated is out of date. Your version is 0.2.1, the latest is 0.2.2.\n",
      "Set the environment variable OUTDATED_IGNORE=1 to disable these warnings.\n",
      "  return warn(\n",
      "/home/preclineu/hansav/.conda/envs/py38/lib/python3.8/site-packages/outdated/utils.py:14: OutdatedPackageWarning: The package pingouin is out of date. Your version is 0.5.1, the latest is 0.5.4.\n",
      "Set the environment variable OUTDATED_IGNORE=1 to disable these warnings.\n",
      "  return warn(\n"
     ]
    }
   ],
   "source": [
    "import os\n",
    "import pickle\n",
    "import pandas as pd\n",
    "import numpy as np\n",
    "import nibabel as nib\n",
    "import pcntoolkit as ptk \n",
    "from pcntoolkit.dataio.fileio import load as ptkload\n",
    "from pcntoolkit.dataio.fileio import save as ptksave\n",
    "from pcntoolkit.dataio.fileio import save_nifti, load_nifti\n",
    "from pcntoolkit.normative import predict, evaluate\n",
    "from pcntoolkit.util.utils import compute_MSLL, create_design_matrix, calibration_descriptives\n",
    "\n",
    "from scipy import stats\n",
    "\n",
    "from matplotlib import pyplot as plt\n",
    "import seaborn as sns\n",
    "import pingouin as pg\n",
    "\n",
    "#%% SET GLOBALS\n",
    "# globals\n",
    "root_dir = '/project_cephfs/3022017.06/ENIGMA_ANX/'\n",
    "\n",
    "\n",
    "###  CHANGE DEPENDING ON Z-STAT OR SCALED EFFECT  ###\n",
    "proc_dir = os.path.join(root_dir,'Z_stat/')\n",
    "#proc_dir = os.path.join(root_dir,'Scaled_effect/')\n",
    "\n",
    "data_dir = os.path.join(proc_dir,'data/')\n",
    "w_dir = os.path.join(proc_dir,'vox/')\n",
    "mask_nii = ('/opt/fmriprep/templateflow/tpl-MNI152NLin2009cAsym/tpl-MNI152NLin2009cAsym_res-02_desc-brain_mask.nii.gz')\n",
    "ex_nii = os.path.join(data_dir, 'ENIGMA_FC_tr_1.nii.gz')\n",
    "\n"
   ]
  },
  {
   "cell_type": "code",
   "execution_count": 2,
   "id": "39a6f7e7-9d41-49ea-97b7-6ea485bd4950",
   "metadata": {},
   "outputs": [],
   "source": [
    "#Load data\n",
    "Z_est_clinical = ptkload(os.path.join(w_dir,'Z_predcl.pkl'), mask=mask_nii)\n",
    "\n",
    "#Load in the diagnosis information\n",
    "metadata_cl_diagnosis = pd.read_csv('/project_cephfs/3022017.06/ENIGMA_ANX/Z_stat/data/clinical_te.csv')"
   ]
  },
  {
   "cell_type": "code",
   "execution_count": 3,
   "id": "37a1e028-7b27-47d6-bfe8-22efb4d02454",
   "metadata": {},
   "outputs": [
    {
     "name": "stdout",
     "output_type": "stream",
     "text": [
      "DONE\n"
     ]
    }
   ],
   "source": [
    "#COMPUTE AND SAVE COUNTS\n",
    "mask_Diganosis = metadata_cl_diagnosis['Healthy_or_patient'].eq(1)\n",
    "mask_Control = metadata_cl_diagnosis['Healthy_or_patient'].eq(0)\n",
    "Z_est_clinical_only = Z_est_clinical[mask_Diganosis]\n",
    "Z_est_control_clin = Z_est_clinical[mask_Control]\n",
    "\n",
    "\n",
    "ptksave(Z_est_clinical_only, os.path.join(w_dir,'Z_predcl_CLINICAL.nii.gz'), example=ex_nii, mask=mask_nii)\n",
    "ptksave(Z_est_control_clin, os.path.join(w_dir,'Z_predcl_CONTROL.nii.gz'), example=ex_nii, mask=mask_nii)\n",
    "\n",
    "print('DONE')"
   ]
  },
  {
   "cell_type": "code",
   "execution_count": 4,
   "id": "510e4fbd-3d8f-4380-9324-35a014f42455",
   "metadata": {},
   "outputs": [
    {
     "name": "stdout",
     "output_type": "stream",
     "text": [
      "fslmaths /project_cephfs/3022017.06/ENIGMA_ANX/Z_stat/vox/Z_predcl_CONTROL.nii.gz -thr 2.6 /project_cephfs/3022017.06/ENIGMA_ANX/Z_stat/vox/Z_predcl_CONTROL_pos2pt6.nii.gz\n",
      "fslmaths /project_cephfs/3022017.06/ENIGMA_ANX/Z_stat/vox/Z_predcl_CONTROL.nii.gz -mul -1 -thr 2.6 /project_cephfs/3022017.06/ENIGMA_ANX/Z_stat/vox/Z_predcl_CONTROL_neg2pt6.nii.gz\n"
     ]
    }
   ],
   "source": [
    "#THRESHOLD THE NII FILES USING FSLMATHS - control\n",
    "\n",
    "in_filename = (w_dir +'Z_predcl_CONTROL.nii.gz')\n",
    "#print(filename)\n",
    "out_filename_pos = (w_dir +'Z_predcl_CONTROL_pos2pt6.nii.gz')\n",
    "out_filename_neg = (w_dir +'Z_predcl_CONTROL_neg2pt6.nii.gz')\n",
    "#print(out_filename_pos, out_filename_neg)\n",
    "\n",
    "command = ('fslmaths ' +in_filename +' -thr 2.6 ' +out_filename_pos)\n",
    "print(command)\n",
    "os.system(command)\n",
    "!command\n",
    "\n",
    "command = ('fslmaths ' +in_filename +' -mul -1 -thr 2.6 ' +out_filename_neg)\n",
    "print(command)\n",
    "os.system(command)\n",
    "!command\n"
   ]
  },
  {
   "cell_type": "code",
   "execution_count": 5,
   "id": "f0a87775-83c3-4958-93eb-956f8b9a94ee",
   "metadata": {},
   "outputs": [
    {
     "name": "stdout",
     "output_type": "stream",
     "text": [
      "fslmaths /project_cephfs/3022017.06/ENIGMA_ANX/Z_stat/vox/Z_predcl_CLINICAL.nii.gz -thr 2.6 /project_cephfs/3022017.06/ENIGMA_ANX/Z_stat/vox/Z_predcl_CLINICAL_pos2pt6.nii.gz\n",
      "fslmaths /project_cephfs/3022017.06/ENIGMA_ANX/Z_stat/vox/Z_predcl_CLINICAL.nii.gz -mul -1 -thr 2.6 /project_cephfs/3022017.06/ENIGMA_ANX/Z_stat/vox/Z_predcl_CLINICAL_neg2pt6.nii.gz\n"
     ]
    }
   ],
   "source": [
    "#THRESHOLD THE NII FILES USING FSLMATHS - clinical\n",
    "\n",
    "in_filename = (w_dir +'Z_predcl_CLINICAL.nii.gz')\n",
    "#print(filename)\n",
    "out_filename_pos = (w_dir +'Z_predcl_CLINICAL_pos2pt6.nii.gz')\n",
    "out_filename_neg = (w_dir +'Z_predcl_CLINICAL_neg2pt6.nii.gz')\n",
    "#print(out_filename_pos, out_filename_neg)\n",
    "\n",
    "command = ('fslmaths ' +in_filename +' -thr 2.6 ' +out_filename_pos)\n",
    "print(command)\n",
    "os.system(command)\n",
    "!command\n",
    "\n",
    "command = ('fslmaths ' +in_filename +' -mul -1 -thr 2.6 ' +out_filename_neg)\n",
    "print(command)\n",
    "os.system(command)\n",
    "!command\n"
   ]
  },
  {
   "cell_type": "code",
   "execution_count": 6,
   "id": "a365ae96-f4ba-4887-b441-d3a1dfa2c0d3",
   "metadata": {},
   "outputs": [
    {
     "name": "stdout",
     "output_type": "stream",
     "text": [
      "fslmaths /project_cephfs/3022017.06/ENIGMA_ANX/Z_stat/vox/Z_predcl_CONTROL_pos2pt6.nii.gz -bin  /project_cephfs/3022017.06/ENIGMA_ANX/Z_stat/vox/Z_predcl_CONTROL_pos2pt6_bin.nii.gz\n",
      "fslmaths /project_cephfs/3022017.06/ENIGMA_ANX/Z_stat/vox/Z_predcl_CONTROL_neg2pt6.nii.gz -bin  /project_cephfs/3022017.06/ENIGMA_ANX/Z_stat/vox/Z_predcl_CONTROL_neg2pt6_bin.nii.gz\n",
      "DONE\n"
     ]
    }
   ],
   "source": [
    "# BINARISE THE NII FILES USING FSLMATHS\n",
    "in_filename_pos = (w_dir +'Z_predcl_CONTROL_pos2pt6.nii.gz')\n",
    "in_filename_neg = (w_dir +'Z_predcl_CONTROL_neg2pt6.nii.gz')\n",
    "#print(filename)\n",
    "out_filename_pos = (w_dir +'Z_predcl_CONTROL_pos2pt6_bin.nii.gz')\n",
    "out_filename_neg = (w_dir +'Z_predcl_CONTROL_neg2pt6_bin.nii.gz')\n",
    "#print(out_filename_pos, out_filename_neg)\n",
    "\n",
    "command = ('fslmaths ' +in_filename_pos +' -bin  ' +out_filename_pos)\n",
    "print(command)\n",
    "os.system(command)\n",
    "!command\n",
    "\n",
    "command = ('fslmaths ' +in_filename_neg +' -bin  ' +out_filename_neg)\n",
    "print(command)\n",
    "os.system(command)\n",
    "!command\n",
    "print('DONE')"
   ]
  },
  {
   "cell_type": "code",
   "execution_count": 9,
   "id": "a35446da-9e08-42cb-af31-932733ffb063",
   "metadata": {},
   "outputs": [
    {
     "name": "stdout",
     "output_type": "stream",
     "text": [
      "fslmaths /project_cephfs/3022017.06/ENIGMA_ANX/Z_stat/vox/Z_predcl_CLINICAL_pos2pt6.nii.gz -bin  /project_cephfs/3022017.06/ENIGMA_ANX/Z_stat/vox/Z_predcl_CLINICAL_pos2pt6_bin.nii.gz\n",
      "fslmaths /project_cephfs/3022017.06/ENIGMA_ANX/Z_stat/vox/Z_predcl_CLINICAL_neg2pt6.nii.gz -bin  /project_cephfs/3022017.06/ENIGMA_ANX/Z_stat/vox/Z_predcl_CLINICAL_neg2pt6_bin.nii.gz\n",
      "DONE\n"
     ]
    }
   ],
   "source": [
    "# BINARISE THE NII FILES USING FSLMATHS\n",
    "in_filename_pos = (w_dir +'Z_predcl_CLINICAL_pos2pt6.nii.gz')\n",
    "in_filename_neg = (w_dir +'Z_predcl_CLINICAL_neg2pt6.nii.gz')\n",
    "#print(filename)\n",
    "out_filename_pos = (w_dir +'Z_predcl_CLINICAL_pos2pt6_bin.nii.gz')\n",
    "out_filename_neg = (w_dir +'Z_predcl_CLINICAL_neg2pt6_bin.nii.gz')\n",
    "#print(out_filename_pos, out_filename_neg)\n",
    "\n",
    "command = ('fslmaths ' +in_filename_pos +' -bin  ' +out_filename_pos)\n",
    "print(command)\n",
    "os.system(command)\n",
    "!command\n",
    "\n",
    "command = ('fslmaths ' +in_filename_neg +' -bin  ' +out_filename_neg)\n",
    "print(command)\n",
    "os.system(command)\n",
    "!command\n",
    "print('DONE')"
   ]
  },
  {
   "cell_type": "code",
   "execution_count": 7,
   "id": "edcd150e-fb03-42ac-868f-11a1424c911f",
   "metadata": {},
   "outputs": [
    {
     "name": "stdout",
     "output_type": "stream",
     "text": [
      "DONE\n"
     ]
    }
   ],
   "source": [
    "# SUM THE NUMBER OF VOXELS\n",
    "in_filename_pos = (w_dir +'Z_predcl_CONTROL_pos2pt6_bin.nii.gz')\n",
    "in_filename_neg = (w_dir +'Z_predcl_CONTROL_neg2pt6_bin.nii.gz')\n",
    "thresh_bin_nii_pos = load_nifti(in_filename_pos, mask=mask_nii)\n",
    "thresh_bin_nii_neg = load_nifti(in_filename_neg, mask=mask_nii)\n",
    "\n",
    "out_filename_pos = (w_dir +'Z_predcl_CONTROL_count_pos.nii.gz')\n",
    "out_filename_neg = (w_dir +'Z_predcl_CONTROL_count_neg.nii.gz')\n",
    "#print(out_filename_pos, out_filename_neg)\n",
    "   \n",
    "#Sum along the 2nd dimension(4D = volumes = participants) of the Positive thresholded, binarised file\n",
    "sum_site_pos = np.sum(thresh_bin_nii_pos,axis=1)\n",
    "#Save as nii\n",
    "save_nifti(sum_site_pos,out_filename_pos, examplenii=mask_nii, mask=mask_nii, dtype='float32')\n",
    "\n",
    "#Sum along the 2nd dimension(4D = volumes = participants) of the Negative thresholded, binarised file\n",
    "sum_site_neg = np.sum(thresh_bin_nii_neg,axis=1)\n",
    "#Save as nii\n",
    "save_nifti(sum_site_neg,out_filename_neg, examplenii=mask_nii, mask=mask_nii, dtype='float32')\n",
    "\n",
    "print('DONE')"
   ]
  },
  {
   "cell_type": "code",
   "execution_count": 11,
   "id": "181e1489-39dc-41e5-a26b-50e4cfdf3432",
   "metadata": {},
   "outputs": [
    {
     "name": "stdout",
     "output_type": "stream",
     "text": [
      "DONE\n"
     ]
    }
   ],
   "source": [
    "# SUM THE NUMBER OF VOXELS\n",
    "in_filename_pos = (w_dir +'Z_predcl_CLINICAL_pos2pt6_bin.nii.gz')\n",
    "in_filename_neg = (w_dir +'Z_predcl_CLINICAL_neg2pt6_bin.nii.gz')\n",
    "thresh_bin_nii_pos = load_nifti(in_filename_pos, mask=mask_nii)\n",
    "thresh_bin_nii_neg = load_nifti(in_filename_neg, mask=mask_nii)\n",
    "\n",
    "out_filename_pos = (w_dir +'Z_predcl_CLINICAL_count_pos.nii.gz')\n",
    "out_filename_neg = (w_dir +'Z_predcl_CLINICAL_count_neg.nii.gz')\n",
    "#print(out_filename_pos, out_filename_neg)\n",
    "   \n",
    "#Sum along the 2nd dimension(4D = volumes = participants) of the Positive thresholded, binarised file\n",
    "sum_site_pos = np.sum(thresh_bin_nii_pos,axis=1)\n",
    "#Save as nii\n",
    "save_nifti(sum_site_pos,out_filename_pos, examplenii=mask_nii, mask=mask_nii, dtype='float32')\n",
    "\n",
    "#Sum along the 2nd dimension(4D = volumes = participants) of the Negative thresholded, binarised file\n",
    "sum_site_neg = np.sum(thresh_bin_nii_neg,axis=1)\n",
    "#Save as nii\n",
    "save_nifti(sum_site_neg,out_filename_neg, examplenii=mask_nii, mask=mask_nii, dtype='float32')\n",
    "\n",
    "print('DONE')"
   ]
  },
  {
   "cell_type": "markdown",
   "id": "107a4e05-5825-4cea-9f0a-728c9476d76a",
   "metadata": {},
   "source": [
    "Re-save Clinical for just the affective patients"
   ]
  },
  {
   "cell_type": "code",
   "execution_count": 8,
   "id": "ea37e7ce-a044-42a1-9367-f40747dcaaa9",
   "metadata": {},
   "outputs": [
    {
     "name": "stdout",
     "output_type": "stream",
     "text": [
      "222\n"
     ]
    }
   ],
   "source": [
    "#Load in the diagnosis information\n",
    "metadata_cl_diagnosis = pd.read_csv('/project_cephfs/3022017.06/ENIGMA_ANX/Z_stat/data/clinical_te.csv')\n",
    "Diagnoses_info = pd.read_csv('/project_cephfs/3022017.06/ENIGMA_ANX/Z_stat/data/all_test_validation.csv', usecols = ['SubjectID_ENIGMA', 'Principal_diagnosis_current'] )\n",
    "merged_clinical_test_data = pd.merge(metadata_cl_diagnosis, Diagnoses_info, on='SubjectID_ENIGMA', how='left')\n",
    "\n",
    "merged_clinical_test_data['Principal_diagnosis_current'] = merged_clinical_test_data['Principal_diagnosis_current'].replace({np.nan: 'NA', 'nan': 'NA'})\n",
    "Primary_Diagnoses = np.unique(merged_clinical_test_data['Principal_diagnosis_current'])\n",
    "\n",
    "#split the Z_est clinical into the control and patients  ***and remove other and schizophrenia as diagnosis are not of interest***\n",
    "mask_Diganosis = merged_clinical_test_data['Healthy_or_patient'].eq(1)\n",
    "mask_exclude_diagnosis = ~merged_clinical_test_data['Principal_diagnosis_current'].isin(['others', 'schizophrenia'])\n",
    " #remove other and schizophrenia as not primary affective conditions \n",
    "combined_Diagnosis_mask = mask_Diganosis & mask_exclude_diagnosis\n",
    "\n",
    "Diagnoses_info = merged_clinical_test_data[combined_Diagnosis_mask]\n",
    "Affective_sample_deviations = Z_est_clinical[combined_Diagnosis_mask]\n",
    "print(len(Affective_sample_deviations))\n",
    "\n",
    "ptksave(Affective_sample_deviations, os.path.join(w_dir,'Z_predcl_CLINICAL_affective_only.nii.gz'), example=ex_nii, mask=mask_nii)\n"
   ]
  },
  {
   "cell_type": "code",
   "execution_count": 10,
   "id": "9d48b713-3da1-49bd-bee2-afebd69581bd",
   "metadata": {},
   "outputs": [
    {
     "name": "stdout",
     "output_type": "stream",
     "text": [
      "fslmaths /project_cephfs/3022017.06/ENIGMA_ANX/Z_stat/vox/Z_predcl_CLINICAL_affective_only.nii.gz -thr 2.6 /project_cephfs/3022017.06/ENIGMA_ANX/Z_stat/vox/Z_predcl_CLINICAL_affective_only_pos2pt6.nii.gz\n",
      "fslmaths /project_cephfs/3022017.06/ENIGMA_ANX/Z_stat/vox/Z_predcl_CLINICAL_affective_only.nii.gz -mul -1 -thr 2.6 /project_cephfs/3022017.06/ENIGMA_ANX/Z_stat/vox/Z_predcl_CLINICAL_affective_only_neg2pt6.nii.gz\n"
     ]
    }
   ],
   "source": [
    "#THRESHOLD THE NII FILES USING FSLMATHS - clinical\n",
    "\n",
    "in_filename = (w_dir +'Z_predcl_CLINICAL_affective_only.nii.gz')\n",
    "#print(filename)\n",
    "out_filename_pos = (w_dir +'Z_predcl_CLINICAL_affective_only_pos2pt6.nii.gz')\n",
    "out_filename_neg = (w_dir +'Z_predcl_CLINICAL_affective_only_neg2pt6.nii.gz')\n",
    "#print(out_filename_pos, out_filename_neg)\n",
    "\n",
    "command = ('fslmaths ' +in_filename +' -thr 2.6 ' +out_filename_pos)\n",
    "print(command)\n",
    "os.system(command)\n",
    "!command\n",
    "\n",
    "command = ('fslmaths ' +in_filename +' -mul -1 -thr 2.6 ' +out_filename_neg)\n",
    "print(command)\n",
    "os.system(command)\n",
    "!command\n"
   ]
  },
  {
   "cell_type": "code",
   "execution_count": 11,
   "id": "ada08548-a9cb-4ef9-80e4-0e2db86278f1",
   "metadata": {},
   "outputs": [
    {
     "name": "stdout",
     "output_type": "stream",
     "text": [
      "fslmaths /project_cephfs/3022017.06/ENIGMA_ANX/Z_stat/vox/Z_predcl_CLINICAL_affective_only_pos2pt6.nii.gz -bin  /project_cephfs/3022017.06/ENIGMA_ANX/Z_stat/vox/Z_predcl_CLINICAL_affective_only_pos2pt6_bin.nii.gz\n",
      "fslmaths /project_cephfs/3022017.06/ENIGMA_ANX/Z_stat/vox/Z_predcl_CLINICAL_affective_only_neg2pt6.nii.gz -bin  /project_cephfs/3022017.06/ENIGMA_ANX/Z_stat/vox/Z_predcl_CLINICAL_affective_only_neg2pt6_bin.nii.gz\n",
      "DONE\n"
     ]
    }
   ],
   "source": [
    "# BINARISE THE NII FILES USING FSLMATHS\n",
    "in_filename_pos = (w_dir +'Z_predcl_CLINICAL_affective_only_pos2pt6.nii.gz')\n",
    "in_filename_neg = (w_dir +'Z_predcl_CLINICAL_affective_only_neg2pt6.nii.gz')\n",
    "#print(filename)\n",
    "out_filename_pos = (w_dir +'Z_predcl_CLINICAL_affective_only_pos2pt6_bin.nii.gz')\n",
    "out_filename_neg = (w_dir +'Z_predcl_CLINICAL_affective_only_neg2pt6_bin.nii.gz')\n",
    "#print(out_filename_pos, out_filename_neg)\n",
    "\n",
    "command = ('fslmaths ' +in_filename_pos +' -bin  ' +out_filename_pos)\n",
    "print(command)\n",
    "os.system(command)\n",
    "!command\n",
    "\n",
    "command = ('fslmaths ' +in_filename_neg +' -bin  ' +out_filename_neg)\n",
    "print(command)\n",
    "os.system(command)\n",
    "!command\n",
    "print('DONE')"
   ]
  },
  {
   "cell_type": "code",
   "execution_count": 12,
   "id": "0390b74e-63b4-42b6-98ca-400bd44d4665",
   "metadata": {},
   "outputs": [
    {
     "name": "stdout",
     "output_type": "stream",
     "text": [
      "DONE\n"
     ]
    }
   ],
   "source": [
    "# SUM THE NUMBER OF VOXELS\n",
    "in_filename_pos = (w_dir +'Z_predcl_CLINICAL_affective_only_pos2pt6_bin.nii.gz')\n",
    "in_filename_neg = (w_dir +'Z_predcl_CLINICAL_affective_only_neg2pt6_bin.nii.gz')\n",
    "thresh_bin_nii_pos = load_nifti(in_filename_pos, mask=mask_nii)\n",
    "thresh_bin_nii_neg = load_nifti(in_filename_neg, mask=mask_nii)\n",
    "\n",
    "out_filename_pos = (w_dir +'Z_predcl_CLINICAL_affective_only_count_pos.nii.gz')\n",
    "out_filename_neg = (w_dir +'Z_predcl_CLINICAL_affective_only_count_neg.nii.gz')\n",
    "#print(out_filename_pos, out_filename_neg)\n",
    "   \n",
    "#Sum along the 2nd dimension(4D = volumes = participants) of the Positive thresholded, binarised file\n",
    "sum_site_pos = np.sum(thresh_bin_nii_pos,axis=1)\n",
    "#Save as nii\n",
    "save_nifti(sum_site_pos,out_filename_pos, examplenii=mask_nii, mask=mask_nii, dtype='float32')\n",
    "\n",
    "#Sum along the 2nd dimension(4D = volumes = participants) of the Negative thresholded, binarised file\n",
    "sum_site_neg = np.sum(thresh_bin_nii_neg,axis=1)\n",
    "#Save as nii\n",
    "save_nifti(sum_site_neg,out_filename_neg, examplenii=mask_nii, mask=mask_nii, dtype='float32')\n",
    "\n",
    "print('DONE')"
   ]
  },
  {
   "cell_type": "markdown",
   "id": "a05e3fa6-57f6-4630-a085-78d3d447c051",
   "metadata": {},
   "source": [
    "Re-save Controls as a single file"
   ]
  },
  {
   "cell_type": "code",
   "execution_count": 13,
   "id": "9a2c97fb-63a8-48ac-a60f-c70005ff86c5",
   "metadata": {},
   "outputs": [
    {
     "name": "stdout",
     "output_type": "stream",
     "text": [
      "fslmaths /project_cephfs/3022017.06/ENIGMA_ANX/Z_stat/vox/Z_ref_count_pos.nii.gz -add /project_cephfs/3022017.06/ENIGMA_ANX/Z_stat/vox/Z_predcl_CONTROL_count_pos.nii.gz /project_cephfs/3022017.06/ENIGMA_ANX/Z_stat/vox/ALL_CONTROLS_pos_count.nii.gz\n",
      "DONE pos\n",
      "fslmaths /project_cephfs/3022017.06/ENIGMA_ANX/Z_stat/vox/Z_ref_count_neg.nii.gz -add /project_cephfs/3022017.06/ENIGMA_ANX/Z_stat/vox/Z_predcl_CONTROL_count_neg.nii.gz /project_cephfs/3022017.06/ENIGMA_ANX/Z_stat/vox/ALL_CONTROLS_neg_count.nii.gz\n",
      "DONE neg\n"
     ]
    }
   ],
   "source": [
    "#Sum across the two pos count files together\n",
    "command = ('fslmaths /project_cephfs/3022017.06/ENIGMA_ANX/Z_stat/vox/Z_ref_count_pos.nii.gz -add /project_cephfs/3022017.06/ENIGMA_ANX/Z_stat/vox/Z_predcl_CONTROL_count_pos.nii.gz /project_cephfs/3022017.06/ENIGMA_ANX/Z_stat/vox/ALL_CONTROLS_pos_count.nii.gz')\n",
    "print(command)\n",
    "os.system(command)\n",
    "!command\n",
    "print('DONE pos')\n",
    "\n",
    "#Sum across the two neg count files together\n",
    "command = ('fslmaths /project_cephfs/3022017.06/ENIGMA_ANX/Z_stat/vox/Z_ref_count_neg.nii.gz -add /project_cephfs/3022017.06/ENIGMA_ANX/Z_stat/vox/Z_predcl_CONTROL_count_neg.nii.gz /project_cephfs/3022017.06/ENIGMA_ANX/Z_stat/vox/ALL_CONTROLS_neg_count.nii.gz')\n",
    "print(command)\n",
    "os.system(command)\n",
    "!command\n",
    "print('DONE neg')\n"
   ]
  },
  {
   "cell_type": "code",
   "execution_count": null,
   "id": "0c399e33-7972-484b-975a-7e99590cbf27",
   "metadata": {},
   "outputs": [],
   "source": []
  }
 ],
 "metadata": {
  "kernelspec": {
   "display_name": "Python 3 (ipykernel)",
   "language": "python",
   "name": "python3"
  },
  "language_info": {
   "codemirror_mode": {
    "name": "ipython",
    "version": 3
   },
   "file_extension": ".py",
   "mimetype": "text/x-python",
   "name": "python",
   "nbconvert_exporter": "python",
   "pygments_lexer": "ipython3",
   "version": "3.8.12"
  }
 },
 "nbformat": 4,
 "nbformat_minor": 5
}
