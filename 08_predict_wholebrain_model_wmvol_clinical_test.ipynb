{
 "cells": [
  {
   "cell_type": "code",
   "execution_count": null,
   "id": "a02f5946-f1a1-4c63-be94-33ba23c6522d",
   "metadata": {},
   "outputs": [],
   "source": [
    "import os\n",
    "from pcntoolkit.normative_parallel import execute_nm, collect_nm, delete_nm\n",
    "from pcntoolkit.dataio.fileio import load as ptkload\n",
    "from pcntoolkit.normative import predict, estimate\n",
    "\n",
    "# globals\n",
    "\n",
    "root_dir = '/project_cephfs/3022017.06/ENIGMA_ANX/'\n",
    "\n",
    "###  CHANGE DEPENDING ON Z-STAT OR SCALED EFFECT  ###\n",
    "proc_dir = os.path.join(root_dir,'Z_stat/')\n",
    "#proc_dir = os.path.join(root_dir,'Scaled_effect/')\n",
    "\n",
    "w_dir = os.path.join(proc_dir,'vox/')\n",
    "os.makedirs(w_dir, exist_ok=True)"
   ]
  },
  {
   "cell_type": "code",
   "execution_count": null,
   "id": "ed035d87-ff41-4b03-b053-c3469c3f575d",
   "metadata": {},
   "outputs": [],
   "source": [
    "py_path = '/home/preclineu/hansav/.conda/envs/py38/bin/python'\n",
    "log_path = '/project_cephfs/3022017.06/ENIGMA_ANX/Z_stat/logs/'\n",
    "job_name = 'ENIGMAFC_cl_predict'\n",
    "batch_size = 400 \n",
    "memory = '40gb'\n",
    "duration = '05:00:00'\n",
    "#warp ='WarpSinArcsinh'\n",
    "#warp_reparam = 'True'\n",
    "cluster = 'torque'\n",
    "\n",
    "resp_file_tr = os.path.join(proc_dir,'resp_tr.pkl')\n",
    "resp_file_te = os.path.join(proc_dir,'resp_te.pkl')\n",
    "cov_file_tr = os.path.join(proc_dir, 'cov_bspline_tr.txt')\n",
    "cov_file_te = os.path.join(proc_dir, 'cov_bspline_te.txt')\n",
    "\n",
    "resp_file_cl = os.path.join(proc_dir,'resp_cl.pkl')\n",
    "cov_file_cl = os.path.join(proc_dir, 'cov_bspline_cl.txt')\n",
    "\n",
    "os.chdir(w_dir)\n",
    "\n",
    "# Make prdictions with test data\n",
    "execute_nm(processing_dir = w_dir,\n",
    "            python_path = py_path, \n",
    "            job_name = job_name, \n",
    "            covfile_path = cov_file_cl, \n",
    "            respfile_path = resp_file_cl,\n",
    "            batch_size = batch_size, \n",
    "            memory = memory, \n",
    "            duration = duration, \n",
    "            func = 'predict', \n",
    "            alg = 'blr', \n",
    "            binary=True, \n",
    "            outputsuffix='_predcl',\n",
    "            inputsuffix='_estimate', \n",
    "            cluster_spec = cluster, \n",
    "            log_path=log_path)"
   ]
  },
  {
   "cell_type": "markdown",
   "id": "21eb09c7-3756-406f-aede-a9ff6d70938e",
   "metadata": {},
   "source": [
    "Wait until all jobs are executed"
   ]
  },
  {
   "cell_type": "code",
   "execution_count": null,
   "id": "8bdeb8d2-4868-4ea8-af52-3cd0c545cf76",
   "metadata": {
    "scrolled": true
   },
   "outputs": [],
   "source": [
    "!qstat"
   ]
  },
  {
   "cell_type": "code",
   "execution_count": 11,
   "id": "055f91e1-cf6f-4773-b217-5729144c6ead",
   "metadata": {},
   "outputs": [
    {
     "name": "stdout",
     "output_type": "stream",
     "text": [
      "Number of batches that failed:0\n"
     ]
    },
    {
     "data": {
      "text/plain": [
       "True"
      ]
     },
     "execution_count": 11,
     "metadata": {},
     "output_type": "execute_result"
    }
   ],
   "source": [
    "collect_nm(w_dir, job_name, collect=True, binary=True, func='predict', outputsuffix='_predcl')\n",
    "#delete_nm(w_dir, binary=True)"
   ]
  },
  {
   "cell_type": "code",
   "execution_count": null,
   "id": "c0d4e282-2de5-43dc-855c-05d162427343",
   "metadata": {},
   "outputs": [],
   "source": []
  }
 ],
 "metadata": {
  "kernelspec": {
   "display_name": "Python 3 (ipykernel)",
   "language": "python",
   "name": "python3"
  },
  "language_info": {
   "codemirror_mode": {
    "name": "ipython",
    "version": 3
   },
   "file_extension": ".py",
   "mimetype": "text/x-python",
   "name": "python",
   "nbconvert_exporter": "python",
   "pygments_lexer": "ipython3",
   "version": "3.8.12"
  }
 },
 "nbformat": 4,
 "nbformat_minor": 5
}
